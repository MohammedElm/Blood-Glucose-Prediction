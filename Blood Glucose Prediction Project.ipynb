{
 "cells": [
  {
   "cell_type": "markdown",
   "metadata": {},
   "source": [
    "# Cleaning"
   ]
  },
  {
   "cell_type": "code",
   "execution_count": 58,
   "metadata": {},
   "outputs": [],
   "source": [
    "import pandas as pd\n",
    "import random\n",
    "import numpy as np"
   ]
  },
  {
   "cell_type": "markdown",
   "metadata": {},
   "source": [
    "We begin by extracting, merging all the records, dropping lines that contain NaN values."
   ]
  },
  {
   "cell_type": "code",
   "execution_count": 78,
   "metadata": {},
   "outputs": [
    {
     "name": "stdout",
     "output_type": "stream",
     "text": [
      "The number of rows with NaN values is 66\n",
      "Here's a print of first rows of our merged dataset\n"
     ]
    },
    {
     "data": {
      "text/html": [
       "<div>\n",
       "<style scoped>\n",
       "    .dataframe tbody tr th:only-of-type {\n",
       "        vertical-align: middle;\n",
       "    }\n",
       "\n",
       "    .dataframe tbody tr th {\n",
       "        vertical-align: top;\n",
       "    }\n",
       "\n",
       "    .dataframe thead th {\n",
       "        text-align: right;\n",
       "    }\n",
       "</style>\n",
       "<table border=\"1\" class=\"dataframe\">\n",
       "  <thead>\n",
       "    <tr style=\"text-align: right;\">\n",
       "      <th></th>\n",
       "      <th>date</th>\n",
       "      <th>time</th>\n",
       "      <th>code</th>\n",
       "      <th>value</th>\n",
       "    </tr>\n",
       "  </thead>\n",
       "  <tbody>\n",
       "    <tr>\n",
       "      <th>0</th>\n",
       "      <td>04-21-1991</td>\n",
       "      <td>9:09</td>\n",
       "      <td>58</td>\n",
       "      <td>100</td>\n",
       "    </tr>\n",
       "    <tr>\n",
       "      <th>1</th>\n",
       "      <td>04-21-1991</td>\n",
       "      <td>9:09</td>\n",
       "      <td>33</td>\n",
       "      <td>9</td>\n",
       "    </tr>\n",
       "    <tr>\n",
       "      <th>2</th>\n",
       "      <td>04-21-1991</td>\n",
       "      <td>9:09</td>\n",
       "      <td>34</td>\n",
       "      <td>13</td>\n",
       "    </tr>\n",
       "    <tr>\n",
       "      <th>3</th>\n",
       "      <td>04-21-1991</td>\n",
       "      <td>17:08</td>\n",
       "      <td>62</td>\n",
       "      <td>119</td>\n",
       "    </tr>\n",
       "    <tr>\n",
       "      <th>4</th>\n",
       "      <td>04-21-1991</td>\n",
       "      <td>17:08</td>\n",
       "      <td>33</td>\n",
       "      <td>7</td>\n",
       "    </tr>\n",
       "  </tbody>\n",
       "</table>\n",
       "</div>"
      ],
      "text/plain": [
       "         date   time  code value\n",
       "0  04-21-1991   9:09    58   100\n",
       "1  04-21-1991   9:09    33     9\n",
       "2  04-21-1991   9:09    34    13\n",
       "3  04-21-1991  17:08    62   119\n",
       "4  04-21-1991  17:08    33     7"
      ]
     },
     "execution_count": 78,
     "metadata": {},
     "output_type": "execute_result"
    }
   ],
   "source": [
    "frames=[]\n",
    "colnames=['date', 'time', 'code', 'value'] \n",
    "for i in range(1,71):\n",
    "    if i<10:\n",
    "        data=\"\\data-0\"+str(i)\n",
    "    else:\n",
    "        data=\"\\data-\"+str(i)\n",
    "    \n",
    "    file= \".\\Diabetes-Data\" + data\n",
    "    frames.append(pd.read_csv(file,sep=\"\\t\",names=colnames))\n",
    "\n",
    "# Creating concatenated dataset\n",
    "data=pd.concat(frames)\n",
    "\n",
    "print(\"The number of rows with NaN values is {}\".format(sum([True for idx,row in data.iterrows() if any(row.isnull())])))\n",
    "\n",
    "#Dropping these lines\n",
    "data=data.dropna()\n",
    "    \n",
    "print(\"Here's a print of first rows of our merged dataset\")\n",
    "data.head()"
   ]
  },
  {
   "cell_type": "code",
   "execution_count": 79,
   "metadata": {},
   "outputs": [
    {
     "name": "stdout",
     "output_type": "stream",
     "text": [
      "29264\n"
     ]
    }
   ],
   "source": [
    "#Size of data\n",
    "print(len(data))"
   ]
  },
  {
   "cell_type": "markdown",
   "metadata": {},
   "source": [
    "Now, we drop also files that contains incompatible Code Values as they are surely misleading."
   ]
  },
  {
   "cell_type": "code",
   "execution_count": 80,
   "metadata": {},
   "outputs": [
    {
     "name": "stdout",
     "output_type": "stream",
     "text": [
      "Number of records with incompatible Code value is 121\n"
     ]
    }
   ],
   "source": [
    "codes=[33,34,35,48,57,58,59,60,61,62,63,64,65,66,67,68,69,70,71,72]\n",
    "columns_drop=[]\n",
    "\n",
    "\n",
    "def clean_code(n):\n",
    "    \n",
    "    if n not in codes:\n",
    "        return 0\n",
    "    \n",
    "    else:\n",
    "        return n\n",
    "\n",
    "\n",
    "data[\"code\"]=data[\"code\"].apply(clean_code)   \n",
    "\n",
    "#Number of records with incompatible Code value\n",
    "\n",
    "print(\"Number of records with incompatible Code value is {}\".format(len(data[data[\"code\"]==0]\n",
    ")))\n",
    "\n",
    "#Dropping these files\n",
    "data=data[data[\"code\"]!=0]\n"
   ]
  },
  {
   "cell_type": "markdown",
   "metadata": {},
   "source": [
    "Now, as it is more intuitive that the variable Code is indeed Categorical rather than numerical, we create a one-hot encoding columns for this variables and we drop the main one. We also reset the index of our dataset."
   ]
  },
  {
   "cell_type": "code",
   "execution_count": 81,
   "metadata": {},
   "outputs": [],
   "source": [
    "new_col=pd.get_dummies(data.code, prefix='code') #Removing the last column because the sum should be 1, and hence removing correlations\n",
    "data=pd.concat([data,new_col],axis=1)\n",
    "\n",
    "data.drop([\"code\"],inplace=True, axis=1)\n",
    "\n",
    "data=data.reset_index()\n",
    "\n",
    "data.drop([\"index\"],inplace=True,axis=1)"
   ]
  },
  {
   "cell_type": "markdown",
   "metadata": {},
   "source": [
    "At this stage, we also noticed that some lines are duplicated due the merge between different patient files. We remove these duplications."
   ]
  },
  {
   "cell_type": "code",
   "execution_count": 82,
   "metadata": {},
   "outputs": [
    {
     "name": "stdout",
     "output_type": "stream",
     "text": [
      "The number of duplicates is 1804\n"
     ]
    }
   ],
   "source": [
    "print(\"The number of duplicates is {}\".format(len(data)-len(data.drop_duplicates())))\n",
    "\n",
    "#Dropping duplicates\n",
    "data.drop_duplicates(keep=False,inplace=True) "
   ]
  },
  {
   "cell_type": "markdown",
   "metadata": {},
   "source": [
    "Now, it's time to handle the Time related features. We begin by transforming the type from object to datetime and then we define some functions that extracts Year, Month, Day, Hour and minutes. Lines with errors are dropped afterwards."
   ]
  },
  {
   "cell_type": "code",
   "execution_count": 83,
   "metadata": {},
   "outputs": [
    {
     "name": "stdout",
     "output_type": "stream",
     "text": [
      "The number of rows with incorrect date value values is 12\n",
      "The number of rows with incorrect Time value values is 0\n"
     ]
    },
    {
     "data": {
      "text/html": [
       "<div>\n",
       "<style scoped>\n",
       "    .dataframe tbody tr th:only-of-type {\n",
       "        vertical-align: middle;\n",
       "    }\n",
       "\n",
       "    .dataframe tbody tr th {\n",
       "        vertical-align: top;\n",
       "    }\n",
       "\n",
       "    .dataframe thead th {\n",
       "        text-align: right;\n",
       "    }\n",
       "</style>\n",
       "<table border=\"1\" class=\"dataframe\">\n",
       "  <thead>\n",
       "    <tr style=\"text-align: right;\">\n",
       "      <th></th>\n",
       "      <th>value</th>\n",
       "      <th>code_33</th>\n",
       "      <th>code_34</th>\n",
       "      <th>code_35</th>\n",
       "      <th>code_48</th>\n",
       "      <th>code_57</th>\n",
       "      <th>code_58</th>\n",
       "      <th>code_59</th>\n",
       "      <th>code_60</th>\n",
       "      <th>code_61</th>\n",
       "      <th>...</th>\n",
       "      <th>code_68</th>\n",
       "      <th>code_69</th>\n",
       "      <th>code_70</th>\n",
       "      <th>code_71</th>\n",
       "      <th>code_72</th>\n",
       "      <th>day</th>\n",
       "      <th>month</th>\n",
       "      <th>year</th>\n",
       "      <th>hour</th>\n",
       "      <th>minute</th>\n",
       "    </tr>\n",
       "  </thead>\n",
       "  <tbody>\n",
       "    <tr>\n",
       "      <th>0</th>\n",
       "      <td>100.0</td>\n",
       "      <td>0</td>\n",
       "      <td>0</td>\n",
       "      <td>0</td>\n",
       "      <td>0</td>\n",
       "      <td>0</td>\n",
       "      <td>1</td>\n",
       "      <td>0</td>\n",
       "      <td>0</td>\n",
       "      <td>0</td>\n",
       "      <td>...</td>\n",
       "      <td>0</td>\n",
       "      <td>0</td>\n",
       "      <td>0</td>\n",
       "      <td>0</td>\n",
       "      <td>0</td>\n",
       "      <td>21.0</td>\n",
       "      <td>4.0</td>\n",
       "      <td>1991.0</td>\n",
       "      <td>9</td>\n",
       "      <td>9</td>\n",
       "    </tr>\n",
       "    <tr>\n",
       "      <th>1</th>\n",
       "      <td>9.0</td>\n",
       "      <td>1</td>\n",
       "      <td>0</td>\n",
       "      <td>0</td>\n",
       "      <td>0</td>\n",
       "      <td>0</td>\n",
       "      <td>0</td>\n",
       "      <td>0</td>\n",
       "      <td>0</td>\n",
       "      <td>0</td>\n",
       "      <td>...</td>\n",
       "      <td>0</td>\n",
       "      <td>0</td>\n",
       "      <td>0</td>\n",
       "      <td>0</td>\n",
       "      <td>0</td>\n",
       "      <td>21.0</td>\n",
       "      <td>4.0</td>\n",
       "      <td>1991.0</td>\n",
       "      <td>9</td>\n",
       "      <td>9</td>\n",
       "    </tr>\n",
       "    <tr>\n",
       "      <th>2</th>\n",
       "      <td>13.0</td>\n",
       "      <td>0</td>\n",
       "      <td>1</td>\n",
       "      <td>0</td>\n",
       "      <td>0</td>\n",
       "      <td>0</td>\n",
       "      <td>0</td>\n",
       "      <td>0</td>\n",
       "      <td>0</td>\n",
       "      <td>0</td>\n",
       "      <td>...</td>\n",
       "      <td>0</td>\n",
       "      <td>0</td>\n",
       "      <td>0</td>\n",
       "      <td>0</td>\n",
       "      <td>0</td>\n",
       "      <td>21.0</td>\n",
       "      <td>4.0</td>\n",
       "      <td>1991.0</td>\n",
       "      <td>9</td>\n",
       "      <td>9</td>\n",
       "    </tr>\n",
       "    <tr>\n",
       "      <th>3</th>\n",
       "      <td>119.0</td>\n",
       "      <td>0</td>\n",
       "      <td>0</td>\n",
       "      <td>0</td>\n",
       "      <td>0</td>\n",
       "      <td>0</td>\n",
       "      <td>0</td>\n",
       "      <td>0</td>\n",
       "      <td>0</td>\n",
       "      <td>0</td>\n",
       "      <td>...</td>\n",
       "      <td>0</td>\n",
       "      <td>0</td>\n",
       "      <td>0</td>\n",
       "      <td>0</td>\n",
       "      <td>0</td>\n",
       "      <td>21.0</td>\n",
       "      <td>4.0</td>\n",
       "      <td>1991.0</td>\n",
       "      <td>17</td>\n",
       "      <td>8</td>\n",
       "    </tr>\n",
       "    <tr>\n",
       "      <th>4</th>\n",
       "      <td>7.0</td>\n",
       "      <td>1</td>\n",
       "      <td>0</td>\n",
       "      <td>0</td>\n",
       "      <td>0</td>\n",
       "      <td>0</td>\n",
       "      <td>0</td>\n",
       "      <td>0</td>\n",
       "      <td>0</td>\n",
       "      <td>0</td>\n",
       "      <td>...</td>\n",
       "      <td>0</td>\n",
       "      <td>0</td>\n",
       "      <td>0</td>\n",
       "      <td>0</td>\n",
       "      <td>0</td>\n",
       "      <td>21.0</td>\n",
       "      <td>4.0</td>\n",
       "      <td>1991.0</td>\n",
       "      <td>17</td>\n",
       "      <td>8</td>\n",
       "    </tr>\n",
       "    <tr>\n",
       "      <th>...</th>\n",
       "      <td>...</td>\n",
       "      <td>...</td>\n",
       "      <td>...</td>\n",
       "      <td>...</td>\n",
       "      <td>...</td>\n",
       "      <td>...</td>\n",
       "      <td>...</td>\n",
       "      <td>...</td>\n",
       "      <td>...</td>\n",
       "      <td>...</td>\n",
       "      <td>...</td>\n",
       "      <td>...</td>\n",
       "      <td>...</td>\n",
       "      <td>...</td>\n",
       "      <td>...</td>\n",
       "      <td>...</td>\n",
       "      <td>...</td>\n",
       "      <td>...</td>\n",
       "      <td>...</td>\n",
       "      <td>...</td>\n",
       "      <td>...</td>\n",
       "    </tr>\n",
       "    <tr>\n",
       "      <th>29138</th>\n",
       "      <td>1.0</td>\n",
       "      <td>1</td>\n",
       "      <td>0</td>\n",
       "      <td>0</td>\n",
       "      <td>0</td>\n",
       "      <td>0</td>\n",
       "      <td>0</td>\n",
       "      <td>0</td>\n",
       "      <td>0</td>\n",
       "      <td>0</td>\n",
       "      <td>...</td>\n",
       "      <td>0</td>\n",
       "      <td>0</td>\n",
       "      <td>0</td>\n",
       "      <td>0</td>\n",
       "      <td>0</td>\n",
       "      <td>5.0</td>\n",
       "      <td>9.0</td>\n",
       "      <td>1989.0</td>\n",
       "      <td>8</td>\n",
       "      <td>0</td>\n",
       "    </tr>\n",
       "    <tr>\n",
       "      <th>29139</th>\n",
       "      <td>7.0</td>\n",
       "      <td>0</td>\n",
       "      <td>1</td>\n",
       "      <td>0</td>\n",
       "      <td>0</td>\n",
       "      <td>0</td>\n",
       "      <td>0</td>\n",
       "      <td>0</td>\n",
       "      <td>0</td>\n",
       "      <td>0</td>\n",
       "      <td>...</td>\n",
       "      <td>0</td>\n",
       "      <td>0</td>\n",
       "      <td>0</td>\n",
       "      <td>0</td>\n",
       "      <td>0</td>\n",
       "      <td>5.0</td>\n",
       "      <td>9.0</td>\n",
       "      <td>1989.0</td>\n",
       "      <td>8</td>\n",
       "      <td>0</td>\n",
       "    </tr>\n",
       "    <tr>\n",
       "      <th>29140</th>\n",
       "      <td>7.0</td>\n",
       "      <td>0</td>\n",
       "      <td>1</td>\n",
       "      <td>0</td>\n",
       "      <td>0</td>\n",
       "      <td>0</td>\n",
       "      <td>0</td>\n",
       "      <td>0</td>\n",
       "      <td>0</td>\n",
       "      <td>0</td>\n",
       "      <td>...</td>\n",
       "      <td>0</td>\n",
       "      <td>0</td>\n",
       "      <td>0</td>\n",
       "      <td>0</td>\n",
       "      <td>0</td>\n",
       "      <td>5.0</td>\n",
       "      <td>10.0</td>\n",
       "      <td>1989.0</td>\n",
       "      <td>8</td>\n",
       "      <td>0</td>\n",
       "    </tr>\n",
       "    <tr>\n",
       "      <th>29141</th>\n",
       "      <td>7.0</td>\n",
       "      <td>0</td>\n",
       "      <td>1</td>\n",
       "      <td>0</td>\n",
       "      <td>0</td>\n",
       "      <td>0</td>\n",
       "      <td>0</td>\n",
       "      <td>0</td>\n",
       "      <td>0</td>\n",
       "      <td>0</td>\n",
       "      <td>...</td>\n",
       "      <td>0</td>\n",
       "      <td>0</td>\n",
       "      <td>0</td>\n",
       "      <td>0</td>\n",
       "      <td>0</td>\n",
       "      <td>5.0</td>\n",
       "      <td>11.0</td>\n",
       "      <td>1989.0</td>\n",
       "      <td>8</td>\n",
       "      <td>0</td>\n",
       "    </tr>\n",
       "    <tr>\n",
       "      <th>29142</th>\n",
       "      <td>7.0</td>\n",
       "      <td>0</td>\n",
       "      <td>1</td>\n",
       "      <td>0</td>\n",
       "      <td>0</td>\n",
       "      <td>0</td>\n",
       "      <td>0</td>\n",
       "      <td>0</td>\n",
       "      <td>0</td>\n",
       "      <td>0</td>\n",
       "      <td>...</td>\n",
       "      <td>0</td>\n",
       "      <td>0</td>\n",
       "      <td>0</td>\n",
       "      <td>0</td>\n",
       "      <td>0</td>\n",
       "      <td>5.0</td>\n",
       "      <td>12.0</td>\n",
       "      <td>1989.0</td>\n",
       "      <td>8</td>\n",
       "      <td>0</td>\n",
       "    </tr>\n",
       "  </tbody>\n",
       "</table>\n",
       "<p>25427 rows × 26 columns</p>\n",
       "</div>"
      ],
      "text/plain": [
       "       value  code_33  code_34  code_35  code_48  code_57  code_58  code_59  \\\n",
       "0      100.0        0        0        0        0        0        1        0   \n",
       "1        9.0        1        0        0        0        0        0        0   \n",
       "2       13.0        0        1        0        0        0        0        0   \n",
       "3      119.0        0        0        0        0        0        0        0   \n",
       "4        7.0        1        0        0        0        0        0        0   \n",
       "...      ...      ...      ...      ...      ...      ...      ...      ...   \n",
       "29138    1.0        1        0        0        0        0        0        0   \n",
       "29139    7.0        0        1        0        0        0        0        0   \n",
       "29140    7.0        0        1        0        0        0        0        0   \n",
       "29141    7.0        0        1        0        0        0        0        0   \n",
       "29142    7.0        0        1        0        0        0        0        0   \n",
       "\n",
       "       code_60  code_61  ...  code_68  code_69  code_70  code_71  code_72  \\\n",
       "0            0        0  ...        0        0        0        0        0   \n",
       "1            0        0  ...        0        0        0        0        0   \n",
       "2            0        0  ...        0        0        0        0        0   \n",
       "3            0        0  ...        0        0        0        0        0   \n",
       "4            0        0  ...        0        0        0        0        0   \n",
       "...        ...      ...  ...      ...      ...      ...      ...      ...   \n",
       "29138        0        0  ...        0        0        0        0        0   \n",
       "29139        0        0  ...        0        0        0        0        0   \n",
       "29140        0        0  ...        0        0        0        0        0   \n",
       "29141        0        0  ...        0        0        0        0        0   \n",
       "29142        0        0  ...        0        0        0        0        0   \n",
       "\n",
       "        day  month    year  hour  minute  \n",
       "0      21.0    4.0  1991.0     9       9  \n",
       "1      21.0    4.0  1991.0     9       9  \n",
       "2      21.0    4.0  1991.0     9       9  \n",
       "3      21.0    4.0  1991.0    17       8  \n",
       "4      21.0    4.0  1991.0    17       8  \n",
       "...     ...    ...     ...   ...     ...  \n",
       "29138   5.0    9.0  1989.0     8       0  \n",
       "29139   5.0    9.0  1989.0     8       0  \n",
       "29140   5.0   10.0  1989.0     8       0  \n",
       "29141   5.0   11.0  1989.0     8       0  \n",
       "29142   5.0   12.0  1989.0     8       0  \n",
       "\n",
       "[25427 rows x 26 columns]"
      ]
     },
     "execution_count": 83,
     "metadata": {},
     "output_type": "execute_result"
    }
   ],
   "source": [
    "# Handling the column Date\n",
    "def extract_year(s):\n",
    "    return s.year\n",
    "def extract_month(s):\n",
    "    return s.month\n",
    "def extract_day(s):\n",
    "    return s.day\n",
    "\n",
    "data['date'] = pd.to_datetime(data['date'] , dayfirst=True, errors='coerce')\n",
    "data[\"day\"]=data[\"date\"].apply(extract_day)\n",
    "data[\"month\"]=data[\"date\"].apply(extract_month)\n",
    "data[\"year\"]=data[\"date\"].apply(extract_year)\n",
    "\n",
    "data.drop([\"date\"],inplace=True,axis=1)\n",
    "\n",
    "#Handling the column Time\n",
    "\n",
    "data['time']=pd.to_datetime(data['time'], format=\"%H:%M\", errors='coerce')\n",
    "\n",
    "print(\"The number of rows with incorrect date value values is {}\".format(sum([True for idx,row in data.iterrows() if any(row.isnull())])))\n",
    "\n",
    "data= data.dropna()\n",
    "\n",
    "data[\"hour\"]=data[\"time\"].dt.hour\n",
    "data[\"minute\"]=data[\"time\"].dt.minute\n",
    "\n",
    "data.drop([\"time\"], inplace=True, axis=1)\n",
    "\n",
    "print(\"The number of rows with incorrect Time value values is {}\".format(sum([True for idx,row in data.iterrows() if any(row.isnull())])))\n",
    "\n",
    "data=data.dropna()\n",
    "\n",
    "\n",
    "#Just to make sure everything is now numeric and no duplicates\n",
    "data= data.apply(pd.to_numeric, errors='coerce')\n",
    "\n",
    "data=data.dropna()\n",
    "data.drop_duplicates(keep=False,inplace=True) \n",
    "data"
   ]
  },
  {
   "cell_type": "code",
   "execution_count": 84,
   "metadata": {},
   "outputs": [
    {
     "name": "stdout",
     "output_type": "stream",
     "text": [
      "The mean of Blood Glucose in our dataset is 81.17082235419043\n"
     ]
    }
   ],
   "source": [
    "print(\"The mean of Blood Glucose in our dataset is {}\".format(np.mean(data[\"value\"])))"
   ]
  },
  {
   "cell_type": "markdown",
   "metadata": {},
   "source": [
    "# Modeling\n",
    "\n",
    "After cleaning the dataset, we now train Machine Learning models to make the prediction of Blood Glucose levels. Here, we use the LightGBM model (Using LightGBM Python Package, to run this one has to launch in terminal the command : $\\textbf{pip install lightgbm}.$ LightGbm is a Microsoft-developed implementation for $\\textbf{The Gradient Boosting Machine}$\n",
    "\n",
    "We also use the $\\textbf{Random Forest}$ model.\n",
    "\n"
   ]
  },
  {
   "cell_type": "code",
   "execution_count": 85,
   "metadata": {},
   "outputs": [],
   "source": [
    "# Pandas and numpy for data manipulation\n",
    "import pandas as pd\n",
    "import numpy as np\n",
    "\n",
    "# Modeling\n",
    "import lightgbm as lgb\n",
    "\n",
    "from sklearn.ensemble import RandomForestRegressor\n",
    "\n",
    "# Evaluation of the model\n",
    "from sklearn.model_selection import KFold\n",
    "\n"
   ]
  },
  {
   "cell_type": "markdown",
   "metadata": {},
   "source": [
    "## Train/Test data\n",
    "\n",
    "We begin by dividing our dataset into Train/Test sets. The test set is 30% of the dataset."
   ]
  },
  {
   "cell_type": "code",
   "execution_count": 101,
   "metadata": {},
   "outputs": [],
   "source": [
    "from sklearn.model_selection import train_test_split\n",
    "\n",
    "X=data.drop([\"value\"],axis=1)\n",
    "\n",
    "y= data[\"value\"]\n",
    "X_train, X_test, y_train, y_test = train_test_split(X, y, test_size=0.3, random_state=42)"
   ]
  },
  {
   "cell_type": "code",
   "execution_count": 102,
   "metadata": {},
   "outputs": [],
   "source": [
    "# Convert to numpy array for splitting in cross validation\n",
    "features = np.array(X_train)\n",
    "test_features = np.array(X_test)\n",
    "labels = np.array(y_train[:])\n",
    "test_labels=y_test[:]"
   ]
  },
  {
   "cell_type": "code",
   "execution_count": 103,
   "metadata": {},
   "outputs": [
    {
     "name": "stdout",
     "output_type": "stream",
     "text": [
      "Train shape:  (17798, 25)\n",
      "Test shape:  (7629, 25)\n"
     ]
    }
   ],
   "source": [
    "print('Train shape: ', X_train.shape)\n",
    "print('Test shape: ', X_test.shape)\n"
   ]
  },
  {
   "cell_type": "code",
   "execution_count": 104,
   "metadata": {},
   "outputs": [],
   "source": [
    "# Model with default hyperparameters\n",
    "model_boost = lgb.LGBMRegressor()\n",
    "model_rf=  RandomForestRegressor()\n"
   ]
  },
  {
   "cell_type": "code",
   "execution_count": 107,
   "metadata": {},
   "outputs": [
    {
     "name": "stdout",
     "output_type": "stream",
     "text": [
      "LGBMRegressor(boosting_type='gbdt', class_weight=None, colsample_bytree=1.0,\n",
      "              importance_type='split', learning_rate=0.1, max_depth=-1,\n",
      "              min_child_samples=20, min_child_weight=0.001, min_split_gain=0.0,\n",
      "              n_estimators=100, n_jobs=-1, num_leaves=31, objective=None,\n",
      "              random_state=None, reg_alpha=0.0, reg_lambda=0.0, silent=True,\n",
      "              subsample=1.0, subsample_for_bin=200000, subsample_freq=0)\n",
      "RandomForestRegressor(bootstrap=True, ccp_alpha=0.0, criterion='mse',\n",
      "                      max_depth=None, max_features='auto', max_leaf_nodes=None,\n",
      "                      max_samples=None, min_impurity_decrease=0.0,\n",
      "                      min_impurity_split=None, min_samples_leaf=1,\n",
      "                      min_samples_split=2, min_weight_fraction_leaf=0.0,\n",
      "                      n_estimators=100, n_jobs=None, oob_score=False,\n",
      "                      random_state=None, verbose=0, warm_start=False)\n"
     ]
    }
   ],
   "source": [
    "print(model_boost)\n",
    "print(model_rf)"
   ]
  },
  {
   "cell_type": "code",
   "execution_count": 108,
   "metadata": {},
   "outputs": [
    {
     "name": "stdout",
     "output_type": "stream",
     "text": [
      "For the LighGBM model\n",
      "MSE is 2713.7968.\n",
      "RMSE is 52.0941.\n",
      "r2 score is 0.6877.\n",
      "MAE is 30.1853.\n",
      "Training time is 0.1403 seconds\n",
      "For the Random forest model\n",
      "MSE is 3071.8743.\n",
      "RMSE is 55.4245.\n",
      "r2 score is 0.6465.\n",
      "MAE is 31.0459.\n",
      "Training time is 4.9712 seconds\n"
     ]
    },
    {
     "data": {
      "text/plain": [
       "Text(0,0.5,'Predicted Blood Glucose')"
      ]
     },
     "execution_count": 108,
     "metadata": {},
     "output_type": "execute_result"
    },
    {
     "data": {
      "image/png": "[encoded data removed]",
      "text/plain": [
       "<matplotlib.figure.Figure at 0x17653b18550>"
      ]
     },
     "metadata": {},
     "output_type": "display_data"
    },
    {
     "data": {
      "image/png": "[encoded data removed]",
      "text/plain": [
       "<matplotlib.figure.Figure at 0x17653b88940>"
      ]
     },
     "metadata": {},
     "output_type": "display_data"
    }
   ],
   "source": [
    "from sklearn.metrics import mean_squared_error, r2_score, mean_absolute_error\n",
    "from timeit import default_timer as timer\n",
    "\n",
    "def train_model(model):\n",
    "    start = timer()\n",
    "    model.fit(features, labels)\n",
    "    train_time = timer() - start\n",
    "\n",
    "    predictions = model.predict(test_features)\n",
    "    MSE = mean_squared_error(test_labels, predictions)\n",
    "    r2= r2_score(test_labels, predictions)\n",
    "    MAE= mean_absolute_error(test_labels, predictions)\n",
    "    \n",
    "    print('MSE is {:.4f}.'.format((MSE)))\n",
    "    print('RMSE is {:.4f}.'.format(np.sqrt(MSE)))\n",
    "    print('r2 score is {:.4f}.'.format(r2))\n",
    "    print('MAE is {:.4f}.'.format(MAE))\n",
    "\n",
    "    print('Training time is {:.4f} seconds'.format(train_time))\n",
    "    \n",
    "    return predictions\n",
    "    \n",
    "\n",
    "    \n",
    "\n",
    "print(\"For the LighGBM model\")\n",
    "predictions1=train_model(model_boost)\n",
    "plt.figure()\n",
    "plt.plot(test_labels, predictions1, 'bo')\n",
    "plt.title(\"LighGBM: Prediction VS Actual values in Test set\")\n",
    "plt.xlabel(\"Actual Blood Glucose\")\n",
    "plt.ylabel(\"Predicted Blood Glucose\")\n",
    "\n",
    "print(\"For the Random forest model\")\n",
    "predictions2=train_model(model_rf)\n",
    "\n",
    "plt.figure()\n",
    "plt.plot(test_labels, predictions2, 'bo')\n",
    "plt.title(\"Random Forest: Prediction VS Actual values in Test set\")\n",
    "plt.xlabel(\"Actual Blood Glucose\")\n",
    "plt.ylabel(\"Predicted Blood Glucose\")\n"
   ]
  },
  {
   "cell_type": "code",
   "execution_count": null,
   "metadata": {},
   "outputs": [],
   "source": []
  }
 ],
 "metadata": {
  "kernelspec": {
   "display_name": "Python 3",
   "language": "python",
   "name": "python3"
  },
  "language_info": {
   "codemirror_mode": {
    "name": "ipython",
    "version": 3
   },
   "file_extension": ".py",
   "mimetype": "text/x-python",
   "name": "python",
   "nbconvert_exporter": "python",
   "pygments_lexer": "ipython3",
   "version": "3.6.10"
  }
 },
 "nbformat": 4,
 "nbformat_minor": 2
}
